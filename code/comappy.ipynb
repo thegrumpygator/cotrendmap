{
 "cells": [
  {
   "cell_type": "markdown",
   "metadata": {},
   "source": [
    "# Map and Trend Sandbox\n",
    "\n",
    "This is the jupyter file for messing with map files and data trending."
   ]
  },
  {
   "cell_type": "code",
   "execution_count": 27,
   "metadata": {},
   "outputs": [],
   "source": [
    "import pandas as pd\n",
    "from pathlib import Path\n",
    "import seaborn as sns"
   ]
  },
  {
   "cell_type": "markdown",
   "metadata": {},
   "source": [
    "## Read the virus data\n",
    "\n",
    "The virus data comes from a NY Times github repo. it's located at:\n",
    "\n",
    "https://github.com/nytimes/covid-19-data\n",
    "\n",
    "with artical at:\n",
    "\n",
    "https://www.nytimes.com/article/coronavirus-county-data-us.html\n",
    "\n"
   ]
  },
  {
   "cell_type": "code",
   "execution_count": 28,
   "metadata": {},
   "outputs": [],
   "source": [
    "# paths\n",
    "\n",
    "rootpath = Path('..')\n",
    "\n",
    "datapath = rootpath / 'data'\n",
    "\n",
    "path_covid_data_us_counties_1 = datapath / 'covid-19-data-20200706' / 'us-counties.csv'\n",
    "path_covid_data_us_counties_2 = datapath / 'covid-19-data-20200720' / 'us-counties.csv'\n",
    "path_covid_data_us_counties_3 = datapath / 'covid-19-data-20200813' / 'us-counties.csv'\n",
    "path_covid_data_us_counties_4 = datapath / 'covid-19-data-20200820' / 'us-counties.csv'\n"
   ]
  },
  {
   "cell_type": "code",
   "execution_count": 4,
   "metadata": {},
   "outputs": [
    {
     "name": "stdout",
     "output_type": "stream",
     "text": [
      "..\\data\\covid-19-data-20200706\\us-counties.csv\n"
     ]
    }
   ],
   "source": [
    "print(path_covid_data_us_counties_1)"
   ]
  },
  {
   "cell_type": "code",
   "execution_count": 29,
   "metadata": {},
   "outputs": [],
   "source": [
    "# read covid data\n",
    "\n",
    "df_covid_data_us_counties_1 = pd.read_csv(path_covid_data_us_counties_1)\n",
    "df_covid_data_us_counties_2 = pd.read_csv(path_covid_data_us_counties_2)\n",
    "df_covid_data_us_counties_3 = pd.read_csv(path_covid_data_us_counties_3)\n",
    "df_covid_data_us_counties_4 = pd.read_csv(path_covid_data_us_counties_4)\n",
    "\n"
   ]
  },
  {
   "cell_type": "code",
   "execution_count": 17,
   "metadata": {
    "scrolled": true
   },
   "outputs": [
    {
     "data": {
      "text/html": [
       "<div>\n",
       "<style scoped>\n",
       "    .dataframe tbody tr th:only-of-type {\n",
       "        vertical-align: middle;\n",
       "    }\n",
       "\n",
       "    .dataframe tbody tr th {\n",
       "        vertical-align: top;\n",
       "    }\n",
       "\n",
       "    .dataframe thead th {\n",
       "        text-align: right;\n",
       "    }\n",
       "</style>\n",
       "<table border=\"1\" class=\"dataframe\">\n",
       "  <thead>\n",
       "    <tr style=\"text-align: right;\">\n",
       "      <th></th>\n",
       "      <th>date</th>\n",
       "      <th>county</th>\n",
       "      <th>state</th>\n",
       "      <th>fips</th>\n",
       "      <th>cases</th>\n",
       "      <th>deaths</th>\n",
       "    </tr>\n",
       "  </thead>\n",
       "  <tbody>\n",
       "    <tr>\n",
       "      <th>0</th>\n",
       "      <td>2020-01-21</td>\n",
       "      <td>Snohomish</td>\n",
       "      <td>Washington</td>\n",
       "      <td>53061.0</td>\n",
       "      <td>1</td>\n",
       "      <td>0</td>\n",
       "    </tr>\n",
       "    <tr>\n",
       "      <th>1</th>\n",
       "      <td>2020-01-22</td>\n",
       "      <td>Snohomish</td>\n",
       "      <td>Washington</td>\n",
       "      <td>53061.0</td>\n",
       "      <td>1</td>\n",
       "      <td>0</td>\n",
       "    </tr>\n",
       "    <tr>\n",
       "      <th>2</th>\n",
       "      <td>2020-01-23</td>\n",
       "      <td>Snohomish</td>\n",
       "      <td>Washington</td>\n",
       "      <td>53061.0</td>\n",
       "      <td>1</td>\n",
       "      <td>0</td>\n",
       "    </tr>\n",
       "    <tr>\n",
       "      <th>3</th>\n",
       "      <td>2020-01-24</td>\n",
       "      <td>Cook</td>\n",
       "      <td>Illinois</td>\n",
       "      <td>17031.0</td>\n",
       "      <td>1</td>\n",
       "      <td>0</td>\n",
       "    </tr>\n",
       "    <tr>\n",
       "      <th>4</th>\n",
       "      <td>2020-01-24</td>\n",
       "      <td>Snohomish</td>\n",
       "      <td>Washington</td>\n",
       "      <td>53061.0</td>\n",
       "      <td>1</td>\n",
       "      <td>0</td>\n",
       "    </tr>\n",
       "  </tbody>\n",
       "</table>\n",
       "</div>"
      ],
      "text/plain": [
       "         date     county       state     fips  cases  deaths\n",
       "0  2020-01-21  Snohomish  Washington  53061.0      1       0\n",
       "1  2020-01-22  Snohomish  Washington  53061.0      1       0\n",
       "2  2020-01-23  Snohomish  Washington  53061.0      1       0\n",
       "3  2020-01-24       Cook    Illinois  17031.0      1       0\n",
       "4  2020-01-24  Snohomish  Washington  53061.0      1       0"
      ]
     },
     "execution_count": 17,
     "metadata": {},
     "output_type": "execute_result"
    }
   ],
   "source": [
    "#df_covid_data_us_counties.head()"
   ]
  },
  {
   "cell_type": "markdown",
   "metadata": {},
   "source": [
    "### Virginia Counties:\n",
    "\n",
    "Culpeper county, va (51047)\n",
    "Fauquier county, va (51061) \n",
    "Spotsylvania county, va(51177) \n",
    "Stafford county, va (51179)\n",
    "Prince William county, va (51153) \n",
    "Fairfax county, va (51059)\n",
    "Loudoun county, va (51107)\n",
    "Arlington county, va (51013) \n",
    "\n",
    "### Independent Virginia Cities:\n",
    "\n",
    "City of Fredericksburg, VA (51630) \n",
    "City of Manassas, VA (51683) \n",
    "City of Fairfax, VA (51600)\n",
    "City of Falls Church, VA (51610)\n",
    "City of Alexandria, VA (51510)\n",
    "\n",
    "### Federal District:\n",
    "\n",
    "District of Columbia, DC (11000, 11001, 11000)\n",
    "\n",
    "### Maryland Counties:\n",
    "\n",
    "Charles county, md (24017)\n",
    "Prince Georges county, md (24033)\n",
    "Montgomery county, md (24031)\n",
    "Howard county, md (24027)\n",
    "Anne Arundel county, md (fips 24003)\n",
    "Frederick county, md (24021)"
   ]
  },
  {
   "cell_type": "code",
   "execution_count": 30,
   "metadata": {},
   "outputs": [],
   "source": [
    "# make a list of all the counties i'm interested in\n",
    "\n",
    "list_fips_va_counties = [51047, 51061, 51177, 51179, 51153, 51059, 51107,51013]\n",
    "list_fips_va_cities = [51630, 51683, 51600, 51610, 51510]\n",
    "list_fips_dc = [11000, 11001]\n",
    "list_fips_md = [24017, 24033, 24031, 24027, 24003, 24021]\n",
    "\n",
    "list_fips_va = list_fips_va_counties + list_fips_va_cities\n",
    "\n",
    "list_fips_metrodc = list_fips_va + list_fips_dc + list_fips_md "
   ]
  },
  {
   "cell_type": "code",
   "execution_count": 31,
   "metadata": {},
   "outputs": [],
   "source": [
    "df_covid_data_metrodc_1 = df_covid_data_us_counties_1[df_covid_data_us_counties_1.fips.isin(list_fips_metrodc)]\n",
    "df_covid_data_metrodc_2 = df_covid_data_us_counties_2[df_covid_data_us_counties_2.fips.isin(list_fips_metrodc)]\n",
    "df_covid_data_metrodc_3 = df_covid_data_us_counties_3[df_covid_data_us_counties_3.fips.isin(list_fips_metrodc)]\n",
    "df_covid_data_metrodc_4 = df_covid_data_us_counties_4[df_covid_data_us_counties_4.fips.isin(list_fips_metrodc)]"
   ]
  },
  {
   "cell_type": "code",
   "execution_count": 33,
   "metadata": {},
   "outputs": [
    {
     "data": {
      "text/html": [
       "<div>\n",
       "<style scoped>\n",
       "    .dataframe tbody tr th:only-of-type {\n",
       "        vertical-align: middle;\n",
       "    }\n",
       "\n",
       "    .dataframe tbody tr th {\n",
       "        vertical-align: top;\n",
       "    }\n",
       "\n",
       "    .dataframe thead th {\n",
       "        text-align: right;\n",
       "    }\n",
       "</style>\n",
       "<table border=\"1\" class=\"dataframe\">\n",
       "  <thead>\n",
       "    <tr style=\"text-align: right;\">\n",
       "      <th></th>\n",
       "      <th>date</th>\n",
       "      <th>county</th>\n",
       "      <th>state</th>\n",
       "      <th>fips</th>\n",
       "      <th>cases</th>\n",
       "      <th>deaths</th>\n",
       "    </tr>\n",
       "  </thead>\n",
       "  <tbody>\n",
       "    <tr>\n",
       "      <th>555</th>\n",
       "      <td>2020-03-05</td>\n",
       "      <td>Montgomery</td>\n",
       "      <td>Maryland</td>\n",
       "      <td>24031.0</td>\n",
       "      <td>3</td>\n",
       "      <td>0</td>\n",
       "    </tr>\n",
       "    <tr>\n",
       "      <th>615</th>\n",
       "      <td>2020-03-06</td>\n",
       "      <td>Montgomery</td>\n",
       "      <td>Maryland</td>\n",
       "      <td>24031.0</td>\n",
       "      <td>3</td>\n",
       "      <td>0</td>\n",
       "    </tr>\n",
       "    <tr>\n",
       "      <th>682</th>\n",
       "      <td>2020-03-07</td>\n",
       "      <td>District of Columbia</td>\n",
       "      <td>District of Columbia</td>\n",
       "      <td>11001.0</td>\n",
       "      <td>1</td>\n",
       "      <td>0</td>\n",
       "    </tr>\n",
       "    <tr>\n",
       "      <th>700</th>\n",
       "      <td>2020-03-07</td>\n",
       "      <td>Montgomery</td>\n",
       "      <td>Maryland</td>\n",
       "      <td>24031.0</td>\n",
       "      <td>3</td>\n",
       "      <td>0</td>\n",
       "    </tr>\n",
       "    <tr>\n",
       "      <th>739</th>\n",
       "      <td>2020-03-07</td>\n",
       "      <td>Fairfax</td>\n",
       "      <td>Virginia</td>\n",
       "      <td>51059.0</td>\n",
       "      <td>1</td>\n",
       "      <td>0</td>\n",
       "    </tr>\n",
       "  </tbody>\n",
       "</table>\n",
       "</div>"
      ],
      "text/plain": [
       "           date                county                 state     fips  cases  \\\n",
       "555  2020-03-05            Montgomery              Maryland  24031.0      3   \n",
       "615  2020-03-06            Montgomery              Maryland  24031.0      3   \n",
       "682  2020-03-07  District of Columbia  District of Columbia  11001.0      1   \n",
       "700  2020-03-07            Montgomery              Maryland  24031.0      3   \n",
       "739  2020-03-07               Fairfax              Virginia  51059.0      1   \n",
       "\n",
       "     deaths  \n",
       "555       0  \n",
       "615       0  \n",
       "682       0  \n",
       "700       0  \n",
       "739       0  "
      ]
     },
     "execution_count": 33,
     "metadata": {},
     "output_type": "execute_result"
    }
   ],
   "source": [
    "#df_covid_data_metrodc.head()"
   ]
  },
  {
   "cell_type": "code",
   "execution_count": 32,
   "metadata": {},
   "outputs": [
    {
     "name": "stderr",
     "output_type": "stream",
     "text": [
      "C:\\Users\\gator\\Anaconda3\\lib\\site-packages\\ipykernel_launcher.py:3: FutureWarning: Indexing with multiple keys (implicitly converted to a tuple of keys) will be deprecated, use a list instead.\n",
      "  This is separate from the ipykernel package so we can avoid doing imports until\n",
      "C:\\Users\\gator\\Anaconda3\\lib\\site-packages\\ipykernel_launcher.py:4: FutureWarning: Indexing with multiple keys (implicitly converted to a tuple of keys) will be deprecated, use a list instead.\n",
      "  after removing the cwd from sys.path.\n",
      "C:\\Users\\gator\\Anaconda3\\lib\\site-packages\\ipykernel_launcher.py:5: FutureWarning: Indexing with multiple keys (implicitly converted to a tuple of keys) will be deprecated, use a list instead.\n",
      "  \"\"\"\n",
      "C:\\Users\\gator\\Anaconda3\\lib\\site-packages\\ipykernel_launcher.py:6: FutureWarning: Indexing with multiple keys (implicitly converted to a tuple of keys) will be deprecated, use a list instead.\n",
      "  \n"
     ]
    }
   ],
   "source": [
    "# df.groupby(['Name', 'Fruit'])[['Number']].agg('sum').reset_index()\n",
    "\n",
    "df_covid_data_metrodc_bydate_1 = df_covid_data_metrodc_1.groupby(['date'])['cases', 'deaths'].agg('sum').reset_index()\n",
    "df_covid_data_metrodc_bydate_2 = df_covid_data_metrodc_2.groupby(['date'])['cases', 'deaths'].agg('sum').reset_index()\n",
    "df_covid_data_metrodc_bydate_3 = df_covid_data_metrodc_3.groupby(['date'])['cases', 'deaths'].agg('sum').reset_index()\n",
    "df_covid_data_metrodc_bydate_4 = df_covid_data_metrodc_4.groupby(['date'])['cases', 'deaths'].agg('sum').reset_index()"
   ]
  },
  {
   "cell_type": "code",
   "execution_count": 39,
   "metadata": {},
   "outputs": [
    {
     "data": {
      "text/html": [
       "<div>\n",
       "<style scoped>\n",
       "    .dataframe tbody tr th:only-of-type {\n",
       "        vertical-align: middle;\n",
       "    }\n",
       "\n",
       "    .dataframe tbody tr th {\n",
       "        vertical-align: top;\n",
       "    }\n",
       "\n",
       "    .dataframe thead th {\n",
       "        text-align: right;\n",
       "    }\n",
       "</style>\n",
       "<table border=\"1\" class=\"dataframe\">\n",
       "  <thead>\n",
       "    <tr style=\"text-align: right;\">\n",
       "      <th></th>\n",
       "      <th>date</th>\n",
       "      <th>cases</th>\n",
       "      <th>deaths</th>\n",
       "    </tr>\n",
       "  </thead>\n",
       "  <tbody>\n",
       "    <tr>\n",
       "      <th>0</th>\n",
       "      <td>2020-03-05</td>\n",
       "      <td>3</td>\n",
       "      <td>0</td>\n",
       "    </tr>\n",
       "    <tr>\n",
       "      <th>1</th>\n",
       "      <td>2020-03-06</td>\n",
       "      <td>3</td>\n",
       "      <td>0</td>\n",
       "    </tr>\n",
       "    <tr>\n",
       "      <th>2</th>\n",
       "      <td>2020-03-07</td>\n",
       "      <td>5</td>\n",
       "      <td>0</td>\n",
       "    </tr>\n",
       "    <tr>\n",
       "      <th>3</th>\n",
       "      <td>2020-03-08</td>\n",
       "      <td>7</td>\n",
       "      <td>0</td>\n",
       "    </tr>\n",
       "    <tr>\n",
       "      <th>4</th>\n",
       "      <td>2020-03-09</td>\n",
       "      <td>13</td>\n",
       "      <td>0</td>\n",
       "    </tr>\n",
       "  </tbody>\n",
       "</table>\n",
       "</div>"
      ],
      "text/plain": [
       "         date  cases  deaths\n",
       "0  2020-03-05      3       0\n",
       "1  2020-03-06      3       0\n",
       "2  2020-03-07      5       0\n",
       "3  2020-03-08      7       0\n",
       "4  2020-03-09     13       0"
      ]
     },
     "execution_count": 39,
     "metadata": {},
     "output_type": "execute_result"
    }
   ],
   "source": [
    "#df_covid_data_metrodc_bydate.head()"
   ]
  },
  {
   "cell_type": "code",
   "execution_count": 41,
   "metadata": {},
   "outputs": [],
   "source": [
    "# seaborn.scatterplot(x=None, y=None, hue=None, style=None, size=None, data=None, palette=None, hue_order=None, hue_norm=None, sizes=None, size_order=None, size_norm=None, markers=True, style_order=None, x_bins=None, y_bins=None, units=None, estimator=None, ci=95, n_boot=1000, alpha='auto', x_jitter=None, y_jitter=None, legend='brief', ax=None, **kwargs)¶"
   ]
  },
  {
   "cell_type": "code",
   "execution_count": 63,
   "metadata": {},
   "outputs": [
    {
     "data": {
      "text/plain": [
       "<matplotlib.axes._subplots.AxesSubplot at 0x1c948a9b630>"
      ]
     },
     "execution_count": 63,
     "metadata": {},
     "output_type": "execute_result"
    },
    {
     "data": {
      "image/png": "[encoded data removed]",
      "text/plain": [
       "<Figure size 432x288 with 1 Axes>"
      ]
     },
     "metadata": {
      "needs_background": "light"
     },
     "output_type": "display_data"
    }
   ],
   "source": [
    "sns.scatterplot(df_covid_data_metrodc_bydate_1.date, df_covid_data_metrodc_bydate_1.cases)"
   ]
  },
  {
   "cell_type": "code",
   "execution_count": 64,
   "metadata": {},
   "outputs": [
    {
     "data": {
      "text/plain": [
       "<matplotlib.axes._subplots.AxesSubplot at 0x1c948a9be80>"
      ]
     },
     "execution_count": 64,
     "metadata": {},
     "output_type": "execute_result"
    },
    {
     "data": {
      "image/png": "[encoded data removed]",
      "text/plain": [
       "<Figure size 432x288 with 1 Axes>"
      ]
     },
     "metadata": {
      "needs_background": "light"
     },
     "output_type": "display_data"
    }
   ],
   "source": [
    "sns.scatterplot(df_covid_data_metrodc_bydate_2.date, df_covid_data_metrodc_bydate_2.cases)"
   ]
  },
  {
   "cell_type": "markdown",
   "metadata": {},
   "source": [
    "now, how to get the new daily cases. diff by day, right? lag 1?\n"
   ]
  },
  {
   "cell_type": "code",
   "execution_count": 33,
   "metadata": {},
   "outputs": [
    {
     "name": "stderr",
     "output_type": "stream",
     "text": [
      "C:\\Users\\gator\\Anaconda3\\lib\\site-packages\\ipykernel_launcher.py:1: FutureWarning: Indexing with multiple keys (implicitly converted to a tuple of keys) will be deprecated, use a list instead.\n",
      "  \"\"\"Entry point for launching an IPython kernel.\n",
      "C:\\Users\\gator\\Anaconda3\\lib\\site-packages\\ipykernel_launcher.py:2: FutureWarning: Indexing with multiple keys (implicitly converted to a tuple of keys) will be deprecated, use a list instead.\n",
      "  \n",
      "C:\\Users\\gator\\Anaconda3\\lib\\site-packages\\ipykernel_launcher.py:3: FutureWarning: Indexing with multiple keys (implicitly converted to a tuple of keys) will be deprecated, use a list instead.\n",
      "  This is separate from the ipykernel package so we can avoid doing imports until\n",
      "C:\\Users\\gator\\Anaconda3\\lib\\site-packages\\ipykernel_launcher.py:4: FutureWarning: Indexing with multiple keys (implicitly converted to a tuple of keys) will be deprecated, use a list instead.\n",
      "  after removing the cwd from sys.path.\n"
     ]
    }
   ],
   "source": [
    "df_covid_data_metrodc_bydate_diff_1 = df_covid_data_metrodc_1.groupby(['date'])['cases', 'deaths'].agg('sum').diff().reset_index()\n",
    "df_covid_data_metrodc_bydate_diff_2 = df_covid_data_metrodc_2.groupby(['date'])['cases', 'deaths'].agg('sum').diff().reset_index()\n",
    "df_covid_data_metrodc_bydate_diff_3 = df_covid_data_metrodc_3.groupby(['date'])['cases', 'deaths'].agg('sum').diff().reset_index()\n",
    "df_covid_data_metrodc_bydate_diff_4 = df_covid_data_metrodc_4.groupby(['date'])['cases', 'deaths'].agg('sum').diff().reset_index()"
   ]
  },
  {
   "cell_type": "code",
   "execution_count": 13,
   "metadata": {},
   "outputs": [
    {
     "data": {
      "text/plain": [
       "<matplotlib.axes._subplots.AxesSubplot at 0x228abef6e10>"
      ]
     },
     "execution_count": 13,
     "metadata": {},
     "output_type": "execute_result"
    },
    {
     "data": {
      "image/png": "[encoded data removed]",
      "text/plain": [
       "<Figure size 432x288 with 1 Axes>"
      ]
     },
     "metadata": {
      "needs_background": "light"
     },
     "output_type": "display_data"
    }
   ],
   "source": [
    "sns.scatterplot(df_covid_data_metrodc_bydate_diff_1.date, df_covid_data_metrodc_bydate_diff_1.cases)"
   ]
  },
  {
   "cell_type": "code",
   "execution_count": 67,
   "metadata": {},
   "outputs": [
    {
     "data": {
      "text/plain": [
       "<matplotlib.axes._subplots.AxesSubplot at 0x1c94b9a7828>"
      ]
     },
     "execution_count": 67,
     "metadata": {},
     "output_type": "execute_result"
    },
    {
     "data": {
      "image/png": "[encoded data removed]",
      "text/plain": [
       "<Figure size 432x288 with 1 Axes>"
      ]
     },
     "metadata": {
      "needs_background": "light"
     },
     "output_type": "display_data"
    }
   ],
   "source": [
    "sns.scatterplot(df_covid_data_metrodc_bydate_diff_2.date, df_covid_data_metrodc_bydate_diff_2.cases)"
   ]
  },
  {
   "cell_type": "code",
   "execution_count": 14,
   "metadata": {},
   "outputs": [
    {
     "data": {
      "text/html": [
       "<div>\n",
       "<style scoped>\n",
       "    .dataframe tbody tr th:only-of-type {\n",
       "        vertical-align: middle;\n",
       "    }\n",
       "\n",
       "    .dataframe tbody tr th {\n",
       "        vertical-align: top;\n",
       "    }\n",
       "\n",
       "    .dataframe thead th {\n",
       "        text-align: right;\n",
       "    }\n",
       "</style>\n",
       "<table border=\"1\" class=\"dataframe\">\n",
       "  <thead>\n",
       "    <tr style=\"text-align: right;\">\n",
       "      <th></th>\n",
       "      <th>date</th>\n",
       "      <th>cases</th>\n",
       "      <th>deaths</th>\n",
       "    </tr>\n",
       "  </thead>\n",
       "  <tbody>\n",
       "    <tr>\n",
       "      <th>132</th>\n",
       "      <td>2020-07-15</td>\n",
       "      <td>704.0</td>\n",
       "      <td>15.0</td>\n",
       "    </tr>\n",
       "    <tr>\n",
       "      <th>133</th>\n",
       "      <td>2020-07-16</td>\n",
       "      <td>518.0</td>\n",
       "      <td>11.0</td>\n",
       "    </tr>\n",
       "    <tr>\n",
       "      <th>134</th>\n",
       "      <td>2020-07-17</td>\n",
       "      <td>572.0</td>\n",
       "      <td>9.0</td>\n",
       "    </tr>\n",
       "    <tr>\n",
       "      <th>135</th>\n",
       "      <td>2020-07-18</td>\n",
       "      <td>744.0</td>\n",
       "      <td>11.0</td>\n",
       "    </tr>\n",
       "    <tr>\n",
       "      <th>136</th>\n",
       "      <td>2020-07-19</td>\n",
       "      <td>730.0</td>\n",
       "      <td>1.0</td>\n",
       "    </tr>\n",
       "  </tbody>\n",
       "</table>\n",
       "</div>"
      ],
      "text/plain": [
       "           date  cases  deaths\n",
       "132  2020-07-15  704.0    15.0\n",
       "133  2020-07-16  518.0    11.0\n",
       "134  2020-07-17  572.0     9.0\n",
       "135  2020-07-18  744.0    11.0\n",
       "136  2020-07-19  730.0     1.0"
      ]
     },
     "execution_count": 14,
     "metadata": {},
     "output_type": "execute_result"
    }
   ],
   "source": [
    "df_covid_data_metrodc_bydate_diff_2.tail()"
   ]
  },
  {
   "cell_type": "code",
   "execution_count": 15,
   "metadata": {},
   "outputs": [
    {
     "data": {
      "text/html": [
       "<div>\n",
       "<style scoped>\n",
       "    .dataframe tbody tr th:only-of-type {\n",
       "        vertical-align: middle;\n",
       "    }\n",
       "\n",
       "    .dataframe tbody tr th {\n",
       "        vertical-align: top;\n",
       "    }\n",
       "\n",
       "    .dataframe thead th {\n",
       "        text-align: right;\n",
       "    }\n",
       "</style>\n",
       "<table border=\"1\" class=\"dataframe\">\n",
       "  <thead>\n",
       "    <tr style=\"text-align: right;\">\n",
       "      <th></th>\n",
       "      <th>date</th>\n",
       "      <th>cases</th>\n",
       "      <th>deaths</th>\n",
       "    </tr>\n",
       "  </thead>\n",
       "  <tbody>\n",
       "    <tr>\n",
       "      <th>118</th>\n",
       "      <td>2020-07-01</td>\n",
       "      <td>365.0</td>\n",
       "      <td>19.0</td>\n",
       "    </tr>\n",
       "    <tr>\n",
       "      <th>119</th>\n",
       "      <td>2020-07-02</td>\n",
       "      <td>476.0</td>\n",
       "      <td>12.0</td>\n",
       "    </tr>\n",
       "    <tr>\n",
       "      <th>120</th>\n",
       "      <td>2020-07-03</td>\n",
       "      <td>440.0</td>\n",
       "      <td>16.0</td>\n",
       "    </tr>\n",
       "    <tr>\n",
       "      <th>121</th>\n",
       "      <td>2020-07-04</td>\n",
       "      <td>452.0</td>\n",
       "      <td>7.0</td>\n",
       "    </tr>\n",
       "    <tr>\n",
       "      <th>122</th>\n",
       "      <td>2020-07-05</td>\n",
       "      <td>408.0</td>\n",
       "      <td>4.0</td>\n",
       "    </tr>\n",
       "  </tbody>\n",
       "</table>\n",
       "</div>"
      ],
      "text/plain": [
       "           date  cases  deaths\n",
       "118  2020-07-01  365.0    19.0\n",
       "119  2020-07-02  476.0    12.0\n",
       "120  2020-07-03  440.0    16.0\n",
       "121  2020-07-04  452.0     7.0\n",
       "122  2020-07-05  408.0     4.0"
      ]
     },
     "execution_count": 15,
     "metadata": {},
     "output_type": "execute_result"
    }
   ],
   "source": [
    "df_covid_data_metrodc_bydate_diff_1.tail()"
   ]
  },
  {
   "cell_type": "markdown",
   "metadata": {},
   "source": [
    "https://wtop.com/coronavirus/2020/05/coronavirus-timeline-key-dates-as-the-virus-spread-in-dc-maryland-and-virginia/\n",
    "\n",
    "- 11 March - beginning of initial lockdown\n",
    "- 7 May - some restrictions lift\n"
   ]
  },
  {
   "cell_type": "code",
   "execution_count": null,
   "metadata": {},
   "outputs": [],
   "source": []
  },
  {
   "cell_type": "code",
   "execution_count": 34,
   "metadata": {},
   "outputs": [
    {
     "data": {
      "image/png": "[encoded data removed]",
      "text/plain": [
       "<Figure size 648x432 with 1 Axes>"
      ]
     },
     "metadata": {
      "needs_background": "light"
     },
     "output_type": "display_data"
    }
   ],
   "source": [
    "import matplotlib.pyplot as plt\n",
    "\n",
    "# bigger plot elements suitable for giving talks\n",
    "sns.set_context(\"talk\")\n",
    "# set figure size\n",
    "plt.figure(figsize=(9,6))\n",
    "# Time series plot with Seaborn lineplot()\n",
    "sns.lineplot(x=\"date\", y=\"cases\", \n",
    "            data=df_covid_data_metrodc_bydate_diff_4, ci=None)\n",
    "# axis labels\n",
    "plt.xlabel(\"Date\", size=14)\n",
    "plt.ylabel(\"Daily New Cases\", size=14)\n",
    "# save image as PNG file\n",
    "plt.savefig(\"Time_Series_Plot_with_Seaborn.png\",\n",
    "                    format='png',\n",
    "                    dpi=150)"
   ]
  },
  {
   "cell_type": "code",
   "execution_count": 35,
   "metadata": {},
   "outputs": [],
   "source": [
    "df_covid_data_metrodc_bydate_diff_4['cases_7day_ave'] = df_covid_data_metrodc_bydate_diff_4.cases.rolling(7).mean().shift(-3)"
   ]
  },
  {
   "cell_type": "code",
   "execution_count": 36,
   "metadata": {
    "scrolled": false
   },
   "outputs": [
    {
     "data": {
      "image/png": "[encoded data removed]",
      "text/plain": [
       "<Figure size 648x432 with 1 Axes>"
      ]
     },
     "metadata": {
      "needs_background": "light"
     },
     "output_type": "display_data"
    }
   ],
   "source": [
    "# bigger plot elements suitable for giving talks\n",
    "sns.set_context(\"talk\")\n",
    "# set figure size\n",
    "plt.figure(figsize=(9,6))\n",
    "# Time series plot with Seaborn lineplot() with label\n",
    "sns.lineplot(x=\"date\",y=\"cases\",\n",
    "             label=\"Daily\", data=df_covid_data_metrodc_bydate_diff_4,\n",
    "             ci=None, alpha=.4)\n",
    "# 7-day rolling average Time series plot with Seaborn lineplot() with label\n",
    "sns.lineplot(x=\"date\",y=\"cases_7day_ave\",\n",
    "             label=\"7-day Ave\",\n",
    "             data=df_covid_data_metrodc_bydate_diff_4,\n",
    "             ci=None)\n",
    "\n",
    "plt.axvline('2020-03-11', color='r')\n",
    "plt.text(10.1,0,'11 Mar 2020',rotation=90)\n",
    "#plt.axvline('2020-05-07', 0,1)\n",
    "plt.axvline('2020-05-28', color='green', label=\"28 May 2020\")\n",
    "plt.axvline('2020-06-14', color='green', alpha=.31)\n",
    "#plt.axvline('2020-07-18', 0,1)\n",
    "plt.legend()\n",
    "# set axis labels\n",
    "plt.xlabel(\"Date\", size=14)\n",
    "plt.ylabel(\"Daily New Cases\", size=14)\n",
    "# save image as PNG file\n",
    "plt.savefig(\"Time_Series_Plot_with_7day_average_Seaborn.png\",\n",
    "                    format='png',\n",
    "                    dpi=150)"
   ]
  },
  {
   "cell_type": "code",
   "execution_count": null,
   "metadata": {},
   "outputs": [],
   "source": []
  },
  {
   "cell_type": "code",
   "execution_count": null,
   "metadata": {},
   "outputs": [],
   "source": []
  },
  {
   "cell_type": "code",
   "execution_count": null,
   "metadata": {},
   "outputs": [],
   "source": []
  }
 ],
 "metadata": {
  "kernelspec": {
   "display_name": "Python 3",
   "language": "python",
   "name": "python3"
  },
  "language_info": {
   "codemirror_mode": {
    "name": "ipython",
    "version": 3
   },
   "file_extension": ".py",
   "mimetype": "text/x-python",
   "name": "python",
   "nbconvert_exporter": "python",
   "pygments_lexer": "ipython3",
   "version": "3.7.3"
  },
  "toc": {
   "base_numbering": 1,
   "nav_menu": {},
   "number_sections": true,
   "sideBar": true,
   "skip_h1_title": false,
   "title_cell": "Table of Contents",
   "title_sidebar": "Contents",
   "toc_cell": false,
   "toc_position": {
    "height": "calc(100% - 180px)",
    "left": "10px",
    "top": "150px",
    "width": "243.323px"
   },
   "toc_section_display": true,
   "toc_window_display": true
  }
 },
 "nbformat": 4,
 "nbformat_minor": 4
}
