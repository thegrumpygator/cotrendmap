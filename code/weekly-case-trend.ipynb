{
 "cells": [
  {
   "cell_type": "markdown",
   "metadata": {},
   "source": [
    "# Weekly Case Trend - DMV"
   ]
  },
  {
   "cell_type": "code",
   "execution_count": 1,
   "metadata": {},
   "outputs": [],
   "source": [
    "import pandas as pd\n",
    "from pathlib import Path\n",
    "import seaborn as sns\n",
    "import matplotlib.pyplot as plt"
   ]
  },
  {
   "cell_type": "markdown",
   "metadata": {},
   "source": [
    "## Read the virus data\n",
    "\n",
    "The virus data comes from a NY Times github repo. it's located at:\n",
    "\n",
    "https://github.com/nytimes/covid-19-data\n",
    "\n",
    "with artical at:\n",
    "\n",
    "https://www.nytimes.com/article/coronavirus-county-data-us.html\n"
   ]
  },
  {
   "cell_type": "code",
   "execution_count": 2,
   "metadata": {},
   "outputs": [],
   "source": [
    "# paths\n",
    "\n",
    "rootpath = Path('..')\n",
    "\n",
    "datapath = rootpath / 'data'\n",
    "\n",
    "### Add line to bottom of this section for new data\n",
    "path_covid_data_us_counties_1 = datapath / 'covid-19-data-20200706' / 'us-counties.csv'\n",
    "path_covid_data_us_counties_2 = datapath / 'covid-19-data-20200720' / 'us-counties.csv'\n",
    "path_covid_data_us_counties_3 = datapath / 'covid-19-data-20200813' / 'us-counties.csv'\n",
    "path_covid_data_us_counties_4 = datapath / 'covid-19-data-20200820' / 'us-counties.csv'\n",
    "\n",
    "### Update this line\n",
    "county_data_path = path_covid_data_us_counties_4\n",
    "\n",
    "df_covid_data_us_counties = pd.read_csv(county_data_path)"
   ]
  },
  {
   "cell_type": "markdown",
   "metadata": {},
   "source": [
    "### Virginia Counties:\n",
    "\n",
    "- Culpeper county, va (51047)\n",
    "- Fauquier county, va (51061) \n",
    "- Spotsylvania county, va(51177) \n",
    "- Stafford county, va (51179)\n",
    "- Prince William county, va (51153) \n",
    "- Fairfax county, va (51059)\n",
    "- Loudoun county, va (51107)\n",
    "- Arlington county, va (51013) \n",
    "\n",
    "### Independent Virginia Cities:\n",
    "\n",
    "- City of Fredericksburg, VA (51630) \n",
    "- City of Manassas, VA (51683) \n",
    "- City of Fairfax, VA (51600)\n",
    "- City of Falls Church, VA (51610)\n",
    "- City of Alexandria, VA (51510)\n",
    "\n",
    "### Federal District:\n",
    "\n",
    "- District of Columbia, DC (11000, 11001, 11000)\n",
    "\n",
    "### Maryland Counties:\n",
    "\n",
    "- Charles county, md (24017)\n",
    "- Prince Georges county, md (24033)\n",
    "- Montgomery county, md (24031)\n",
    "- Howard county, md (24027)\n",
    "- Anne Arundel county, md (fips 24003)\n",
    "- Frederick county, md (24021)"
   ]
  },
  {
   "cell_type": "code",
   "execution_count": 4,
   "metadata": {},
   "outputs": [],
   "source": [
    "# make a list of all the counties i'm interested in\n",
    "\n",
    "list_fips_va_counties = [51047, 51061, 51177, 51179, 51153, 51059, 51107,51013]\n",
    "list_fips_va_cities = [51630, 51683, 51600, 51610, 51510]\n",
    "list_fips_dc = [11000, 11001]\n",
    "list_fips_md = [24017, 24033, 24031, 24027, 24003, 24021]\n",
    "\n",
    "list_fips_va = list_fips_va_counties + list_fips_va_cities\n",
    "\n",
    "list_fips_metrodc = list_fips_va + list_fips_dc + list_fips_md "
   ]
  },
  {
   "cell_type": "code",
   "execution_count": 8,
   "metadata": {},
   "outputs": [
    {
     "name": "stderr",
     "output_type": "stream",
     "text": [
      "C:\\Users\\gator\\Anaconda3\\lib\\site-packages\\ipykernel_launcher.py:3: FutureWarning: Indexing with multiple keys (implicitly converted to a tuple of keys) will be deprecated, use a list instead.\n",
      "  This is separate from the ipykernel package so we can avoid doing imports until\n"
     ]
    },
    {
     "data": {
      "text/html": [
       "<div>\n",
       "<style scoped>\n",
       "    .dataframe tbody tr th:only-of-type {\n",
       "        vertical-align: middle;\n",
       "    }\n",
       "\n",
       "    .dataframe tbody tr th {\n",
       "        vertical-align: top;\n",
       "    }\n",
       "\n",
       "    .dataframe thead th {\n",
       "        text-align: right;\n",
       "    }\n",
       "</style>\n",
       "<table border=\"1\" class=\"dataframe\">\n",
       "  <thead>\n",
       "    <tr style=\"text-align: right;\">\n",
       "      <th></th>\n",
       "      <th>date</th>\n",
       "      <th>cases</th>\n",
       "      <th>deaths</th>\n",
       "      <th>cases_7day_ave</th>\n",
       "    </tr>\n",
       "  </thead>\n",
       "  <tbody>\n",
       "    <tr>\n",
       "      <th>163</th>\n",
       "      <td>2020-08-15</td>\n",
       "      <td>692.0</td>\n",
       "      <td>9.0</td>\n",
       "      <td>654.857143</td>\n",
       "    </tr>\n",
       "    <tr>\n",
       "      <th>164</th>\n",
       "      <td>2020-08-16</td>\n",
       "      <td>636.0</td>\n",
       "      <td>3.0</td>\n",
       "      <td>640.142857</td>\n",
       "    </tr>\n",
       "    <tr>\n",
       "      <th>165</th>\n",
       "      <td>2020-08-17</td>\n",
       "      <td>488.0</td>\n",
       "      <td>2.0</td>\n",
       "      <td>NaN</td>\n",
       "    </tr>\n",
       "    <tr>\n",
       "      <th>166</th>\n",
       "      <td>2020-08-18</td>\n",
       "      <td>627.0</td>\n",
       "      <td>9.0</td>\n",
       "      <td>NaN</td>\n",
       "    </tr>\n",
       "    <tr>\n",
       "      <th>167</th>\n",
       "      <td>2020-08-19</td>\n",
       "      <td>495.0</td>\n",
       "      <td>6.0</td>\n",
       "      <td>NaN</td>\n",
       "    </tr>\n",
       "  </tbody>\n",
       "</table>\n",
       "</div>"
      ],
      "text/plain": [
       "           date  cases  deaths  cases_7day_ave\n",
       "163  2020-08-15  692.0     9.0      654.857143\n",
       "164  2020-08-16  636.0     3.0      640.142857\n",
       "165  2020-08-17  488.0     2.0             NaN\n",
       "166  2020-08-18  627.0     9.0             NaN\n",
       "167  2020-08-19  495.0     6.0             NaN"
      ]
     },
     "execution_count": 8,
     "metadata": {},
     "output_type": "execute_result"
    }
   ],
   "source": [
    "df_covid_data_metrodc = df_covid_data_us_counties[df_covid_data_us_counties.fips.isin(list_fips_metrodc)]\n",
    "\n",
    "df_covid_data_metrodc_bydate_diff = df_covid_data_metrodc.groupby(['date'])['cases', 'deaths'].agg('sum').diff().reset_index()\n",
    "\n",
    "df_covid_data_metrodc_bydate_diff['cases_7day_ave'] = df_covid_data_metrodc_bydate_diff.cases.rolling(7).mean().shift(-3)\n",
    "\n",
    "df_covid_data_metrodc_bydate_diff.tail()"
   ]
  },
  {
   "cell_type": "code",
   "execution_count": 35,
   "metadata": {},
   "outputs": [
    {
     "data": {
      "image/png": "[encoded data removed]",
      "text/plain": [
       "<Figure size 1008x432 with 1 Axes>"
      ]
     },
     "metadata": {
      "needs_background": "light"
     },
     "output_type": "display_data"
    }
   ],
   "source": [
    "# bigger plot elements suitable for giving talks\n",
    "#sns.set_context(\"talk\")\n",
    "\n",
    "# set figure size\n",
    "fig = plt.figure(figsize=(14,6))\n",
    "\n",
    "# Time series plot with Seaborn lineplot() with label\n",
    "#chart = sns.lineplot(x=\"date\",y=\"cases\",\n",
    "#             label=\"Daily\", data=df_covid_data_metrodc_bydate_diff,\n",
    "#             ci=None, alpha=.4)\n",
    "\n",
    "# 7-day rolling average Time series plot with Seaborn lineplot() with label\n",
    "plot_ = sns.lineplot(x=\"date\",y=\"cases_7day_ave\",\n",
    "             label=\"7-day Ave\",\n",
    "             data=df_covid_data_metrodc_bydate_diff)#,\n",
    "             #ci=None)\n",
    "fig.canvas.draw()\n",
    "\n",
    "plt.axvline('2020-03-11', color='r')\n",
    "plt.text(10.1,0,'11 Mar 2020',rotation=90)\n",
    "\n",
    "plt.axvline('2020-05-28', color='green', label=\"28 May 2020\")\n",
    "\n",
    "plt.axvline('2020-06-14', color='green', alpha=.31)\n",
    "\n",
    "plt.legend()\n",
    "\n",
    "# set axis labels\n",
    "plt.xlabel(\"Date\", size=14)\n",
    "plt.ylabel(\"Daily New Cases\", size=14)\n",
    "\n",
    "new_ticks = [i.get_text() for i in plot_.get_xticklabels()]\n",
    "plt.xticks(range(0, len(new_ticks), 7), new_ticks[::7], rotation=60, fontweight='light', fontsize='x-small')\n",
    "\n",
    "# plt.xticks(\n",
    "#     rotation=90,\n",
    "#     fontweight='light',\n",
    "#     fontsize='x-small'\n",
    "# )\n",
    "\n",
    "# save image as PNG file\n",
    "plt.savefig(\"Time_Series_Plot_with_7day_average_Seaborn.png\",\n",
    "                    format='png',\n",
    "                    dpi=150)"
   ]
  },
  {
   "cell_type": "code",
   "execution_count": null,
   "metadata": {},
   "outputs": [],
   "source": []
  },
  {
   "cell_type": "code",
   "execution_count": null,
   "metadata": {},
   "outputs": [],
   "source": []
  },
  {
   "cell_type": "code",
   "execution_count": null,
   "metadata": {},
   "outputs": [],
   "source": []
  }
 ],
 "metadata": {
  "kernelspec": {
   "display_name": "Python 3",
   "language": "python",
   "name": "python3"
  },
  "language_info": {
   "codemirror_mode": {
    "name": "ipython",
    "version": 3
   },
   "file_extension": ".py",
   "mimetype": "text/x-python",
   "name": "python",
   "nbconvert_exporter": "python",
   "pygments_lexer": "ipython3",
   "version": "3.7.3"
  },
  "toc": {
   "base_numbering": 1,
   "nav_menu": {},
   "number_sections": true,
   "sideBar": true,
   "skip_h1_title": false,
   "title_cell": "Table of Contents",
   "title_sidebar": "Contents",
   "toc_cell": false,
   "toc_position": {},
   "toc_section_display": true,
   "toc_window_display": false
  }
 },
 "nbformat": 4,
 "nbformat_minor": 4
}
